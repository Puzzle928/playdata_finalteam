{
 "cells": [
  {
   "cell_type": "code",
   "execution_count": null,
   "metadata": {},
   "outputs": [],
   "source": [
    "from IPython.display import Image"
   ]
  },
  {
   "cell_type": "markdown",
   "metadata": {},
   "source": [
    "## CREATE \n",
    "1.주어진 테이터 시각화 자료를 보고 테이블을 만드시오.(DECIMAL은 NUMBER)"
   ]
  },
  {
   "cell_type": "code",
   "execution_count": null,
   "metadata": {},
   "outputs": [],
   "source": [
    "Image('table.jpg')"
   ]
  },
  {
   "cell_type": "code",
   "execution_count": null,
   "metadata": {},
   "outputs": [],
   "source": []
  },
  {
   "cell_type": "code",
   "execution_count": null,
   "metadata": {},
   "outputs": [],
   "source": [
    "아래 코드를 insert 하시오.\n",
    "\n",
    "\n",
    "INSERT INTO AGENTS VALUES ('A007', 'Ramasundar', 'Bangalore');\n",
    "INSERT INTO AGENTS VALUES ('A003', 'Alex ', 'London');\n",
    "INSERT INTO AGENTS VALUES ('A008', 'Alford', 'New York');\n",
    "INSERT INTO AGENTS VALUES ('A011', 'Ravi Kumar', 'Bangalore');\n",
    "INSERT INTO AGENTS VALUES ('A010', 'Santakumar', 'Chennai');\n",
    "INSERT INTO AGENTS VALUES ('A012', 'Lucida', 'San Jose');\n",
    "INSERT INTO AGENTS VALUES ('A005', 'Anderson', 'Brisban');\n",
    "INSERT INTO AGENTS VALUES ('A001', 'Subbarao', 'Bangalore');\n",
    "INSERT INTO AGENTS VALUES ('A002', 'Mukesh', 'Mumbai');\n",
    "INSERT INTO AGENTS VALUES ('A006', 'McDen', 'London');\n",
    "INSERT INTO AGENTS VALUES ('A004', 'Ivan', 'Torento');\n",
    "INSERT INTO AGENTS VALUES ('A009', 'Benjamin', 'Hampshair');\n",
    "​\n",
    "-- CUSTOMER TABLE INSERT DATA\n",
    "INSERT INTO CUSTOMER VALUES ('C00013', 'Holmes', 'London', 'A003');\n",
    "INSERT INTO CUSTOMER VALUES ('C00001', 'Micheal', 'New York', 'A008');\n",
    "INSERT INTO CUSTOMER VALUES ('C00020', 'Albert', 'New York', 'A008');\n",
    "INSERT INTO CUSTOMER VALUES ('C00025', 'Ravindran', 'Bangalore', 'A011');\n",
    "INSERT INTO CUSTOMER VALUES ('C00024', 'Cook', 'London', 'A006');\n",
    "INSERT INTO CUSTOMER VALUES ('C00015', 'Stuart', 'London', 'A003');\n",
    "INSERT INTO CUSTOMER VALUES ('C00002', 'Bolt', 'New York', 'A008');\n",
    "INSERT INTO CUSTOMER VALUES ('C00018', 'Fleming', 'Brisban', 'A005');\n",
    "INSERT INTO CUSTOMER VALUES ('C00021', 'Jacks', 'Brisban', 'A005');\n",
    "INSERT INTO CUSTOMER VALUES ('C00019', 'Yearannaidu', 'Chennai', 'A010');\n",
    "INSERT INTO CUSTOMER VALUES ('C00005', 'Sasikant', 'Mumbai', 'A002');\n",
    "INSERT INTO CUSTOMER VALUES ('C00007', 'Ramanathan', 'Chennai', 'A010');\n",
    "INSERT INTO CUSTOMER VALUES ('C00022', 'Avinash', 'Mumbai', 'A002');\n",
    "INSERT INTO CUSTOMER VALUES ('C00004', 'Winston', 'Brisban', 'A005');\n",
    "INSERT INTO CUSTOMER VALUES ('C00023', 'Karl', 'London', 'A006');\n",
    "INSERT INTO CUSTOMER VALUES ('C00006', 'Shilton', 'Torento', 'A004');\n",
    "INSERT INTO CUSTOMER VALUES ('C00010', 'Charles', 'Hampshair', 'A009');\n",
    "INSERT INTO CUSTOMER VALUES ('C00017', 'Srinivas', 'Bangalore', 'A007');\n",
    "INSERT INTO CUSTOMER VALUES ('C00012', 'Steven', 'San Jose', 'A012');\n",
    "INSERT INTO CUSTOMER VALUES ('C00008', 'Karolina', 'Torento', 'A004');\n",
    "INSERT INTO CUSTOMER VALUES ('C00003', 'Martin', 'Torento', 'A004');\n",
    "INSERT INTO CUSTOMER VALUES ('C00009', 'Ramesh', 'Mumbai', 'A002');\n",
    "INSERT INTO CUSTOMER VALUES ('C00014', 'Rangarappa', 'Bangalore', 'A001');\n",
    "INSERT INTO CUSTOMER VALUES ('C00016', 'Venkatpati', 'Bangalore', 'A007');\n",
    "INSERT INTO CUSTOMER VALUES ('C00011', 'Sundariya', 'Chennai', 'A010');\n",
    "​\n",
    "​\n",
    "-- ORDERS TABLE INSERT DATA\n",
    "INSERT INTO ORDERS VALUES('200100', '1000.00', '08/01/08', 'C00013', 'A003');\n",
    "INSERT INTO ORDERS VALUES('200110', '3000.00', '15/04/08', 'C00019', 'A010');\n",
    "INSERT INTO ORDERS VALUES('200107', '4500.00', '30/08/08', 'C00007', 'A010');\n",
    "INSERT INTO ORDERS VALUES('200112', '2000.00', '30/05/08', 'C00016', 'A007'); \n",
    "INSERT INTO ORDERS VALUES('200113', '4000.00', '06/10/08', 'C00022', 'A002');\n",
    "INSERT INTO ORDERS VALUES('200102', '2000.00', '25/05/08', 'C00012', 'A012');\n",
    "​\n",
    "INSERT INTO ORDERS VALUES('200114', '3500.00', '15/08/08', 'C00002', 'A008');\n",
    "INSERT INTO ORDERS VALUES('200122', '2500.00','16/09/08', 'C00003', 'A004');\n",
    "INSERT INTO ORDERS VALUES('200118', '500.00', '20/07/08', 'C00023', 'A006');\n",
    "INSERT INTO ORDERS VALUES('200119', '4000.00', '16/09/08', 'C00007', 'A010');\n",
    "INSERT INTO ORDERS VALUES('200121', '1500.00', '23/09/08', 'C00008', 'A004');\n",
    "INSERT INTO ORDERS VALUES('200130', '2500.00', '30/07/08', 'C00025', 'A011');\n",
    "INSERT INTO ORDERS VALUES('200134', '4200.00', '25/09/08', 'C00004', 'A005');\n",
    "INSERT INTO ORDERS VALUES('200108', '4000.00', '15/02/08', 'C00008', 'A004');\n",
    "INSERT INTO ORDERS VALUES('200103', '1500.00', '15/05/08', 'C00021', 'A005');\n",
    "INSERT INTO ORDERS VALUES('200105', '2500.00', '18/07/08', 'C00025', 'A011');\n",
    "INSERT INTO ORDERS VALUES('200109', '3500.00', '30/07/08', 'C00011', 'A010');\n",
    "INSERT INTO ORDERS VALUES('200101', '3000.00', '15/07/08', 'C00001', 'A008');\n",
    "INSERT INTO ORDERS VALUES('200111', '1000.00', '15/07/08', 'C00020', 'A008');\n",
    "INSERT INTO ORDERS VALUES('200104', '1500.00', '13/03/08', 'C00006', 'A004');\n",
    "INSERT INTO ORDERS VALUES('200106', '2500.00', '20/04/08', 'C00005', 'A002');\n",
    "INSERT INTO ORDERS VALUES('200125', '2000.00', '10/10/08', 'C00018', 'A005');\n",
    "INSERT INTO ORDERS VALUES('200117', '800.00', '20/10/08', 'C00014', 'A001');\n",
    "INSERT INTO ORDERS VALUES('200123', '500.00', '16/09/08', 'C00022', 'A002');\n",
    "INSERT INTO ORDERS VALUES('200120', '500.00', '20/07/08', 'C00009', 'A002');\n",
    "INSERT INTO ORDERS VALUES('200116', '500.00', '13/07/08', 'C00010', 'A009');\n",
    "INSERT INTO ORDERS VALUES('200124', '500.00', '20/06/08', 'C00017', 'A007'); \n",
    "INSERT INTO ORDERS VALUES('200126', '500.00', '24/06/08', 'C00022', 'A002');\n",
    "INSERT INTO ORDERS VALUES('200129', '2500.00', '20/07/08', 'C00024', 'A006');\n",
    "INSERT INTO ORDERS VALUES('200127', '2500.00', '20/07/08', 'C00015', 'A003');\n",
    "INSERT INTO ORDERS VALUES('200128', '3500.00', '20/07/08', 'C00009', 'A002');\n",
    "INSERT INTO ORDERS VALUES('200135', '2000.00', '16/09/08', 'C00007', 'A010');\n",
    "INSERT INTO ORDERS VALUES('200131', '900.00', '26/08/08', 'C00012', 'A012');\n",
    "INSERT INTO ORDERS VALUES('200133', '1200.00', '29/06/08', 'C00009', 'A002');"
   ]
  },
  {
   "cell_type": "markdown",
   "metadata": {},
   "source": [
    "## select\n",
    "2. 주문일자가 13년 7월 8일인 고객의 고객 지역을 검색하시오."
   ]
  },
  {
   "cell_type": "code",
   "execution_count": null,
   "metadata": {},
   "outputs": [],
   "source": []
  },
  {
   "cell_type": "markdown",
   "metadata": {},
   "source": [
    "## update\n",
    "3. 배송지가 방갈로인 지역에서 주문일이 6월 이후의 주문건의 에이전트를 Ramasundar로 업데이트 하시오.<br>\n",
    "   산호세에 거주하는 고객의 배송지를 뉴욕으로 업데이트하고 해당 에이전트 또한 뉴욕 에이전트로 업데이트하시오.\n"
   ]
  },
  {
   "cell_type": "code",
   "execution_count": null,
   "metadata": {},
   "outputs": [],
   "source": []
  },
  {
   "cell_type": "markdown",
   "metadata": {},
   "source": [
    "## function\n",
    "4. 에이전트 번호를 입력하면 working_area가 입력되는 함수를 만드시오"
   ]
  },
  {
   "cell_type": "code",
   "execution_count": null,
   "metadata": {},
   "outputs": [],
   "source": []
  },
  {
   "cell_type": "markdown",
   "metadata": {},
   "source": [
    "5. 주어진 테이블을 활용하여 고객의 코드를 입력하면 고객의 주소가 출력이되는 함수를 만드시오."
   ]
  },
  {
   "cell_type": "code",
   "execution_count": null,
   "metadata": {},
   "outputs": [],
   "source": []
  },
  {
   "cell_type": "markdown",
   "metadata": {},
   "source": [
    "## PLSQL<br>\n",
    "6. 주어진 테이블을 활용하여 주문번호를 입력하면 주문일자와 주문금액이 출력되는 함수를 만드시오."
   ]
  },
  {
   "cell_type": "code",
   "execution_count": null,
   "metadata": {},
   "outputs": [],
   "source": []
  }
 ],
 "metadata": {
  "kernelspec": {
   "display_name": "Python 3",
   "language": "python",
   "name": "python3"
  },
  "language_info": {
   "codemirror_mode": {
    "name": "ipython",
    "version": 3
   },
   "file_extension": ".py",
   "mimetype": "text/x-python",
   "name": "python",
   "nbconvert_exporter": "python",
   "pygments_lexer": "ipython3",
   "version": "3.8.5"
  }
 },
 "nbformat": 4,
 "nbformat_minor": 4
}
