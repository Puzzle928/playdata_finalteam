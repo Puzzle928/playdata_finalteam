{
 "cells": [
  {
   "cell_type": "markdown",
   "metadata": {},
   "source": [
    "1번 답안"
   ]
  },
  {
   "cell_type": "code",
   "execution_count": null,
   "metadata": {},
   "outputs": [],
   "source": [
    "\n",
    "DROP TABLE AGENTS CASCADE CONSTRAINTS;\n",
    "CREATE TABLE AGENTS(\t\n",
    "    AGENT_CODE CHAR(6) not null primary key, \n",
    "\tAGENT_NAME CHAR(40), \n",
    "\tWORKING_AREA CHAR(35) \n",
    "\t);\n",
    "​\n",
    "DROP TABLE CUSTOMER CASCADE CONSTRAINTS;\n",
    "CREATE TABLE CUSTOMER(\n",
    "    CUST_CODE VARCHAR2(6) NOT NULL PRIMARY KEY, \n",
    "\tCUST_NAME VARCHAR2(40) NOT NULL, \n",
    "\tCUST_CITY CHAR(35), \n",
    "\tWORKING_AREA VARCHAR(20), \n",
    "\tAGENT_CODE CHAR(6) NOT NULL REFERENCES AGENTS\n",
    "    );   \n",
    "​\n",
    "DROP TABLE ORDERS CASCADE CONSTRAINTS;\n",
    "CREATE TABLE ORDERS(\n",
    "    ORD_NUM NUMBER(6,0) NOT NULL PRIMARY KEY, \n",
    "\tORD_AMOUNT NUMBER(12,2) NOT NULL, \n",
    "\tORD_DATE DATE NOT NULL, \n",
    "\tCUST_CODE VARCHAR2(6) NOT NULL REFERENCES CUSTOMER, \n",
    "\tAGENT_CODE CHAR(6) NOT NULL REFERENCES AGENTS \n",
    "    );\n"
   ]
  },
  {
   "cell_type": "markdown",
   "metadata": {},
   "source": [
    "2번 답안"
   ]
  },
  {
   "cell_type": "code",
   "execution_count": null,
   "metadata": {},
   "outputs": [],
   "source": [
    "select cust_city from customer c, orders o where c.agent_code = o.agent_code and ord_date = '13/07/08'"
   ]
  },
  {
   "cell_type": "markdown",
   "metadata": {},
   "source": [
    "3번 답안"
   ]
  },
  {
   "cell_type": "code",
   "execution_count": null,
   "metadata": {},
   "outputs": [],
   "source": [
    "update customer set agent_code = 'A007' where cust_city = 'Bangalore';\n",
    "\n",
    "update customer set cust_city = 'NewYork', agent_code = 'A008' where cust_city = 'San Jose';"
   ]
  },
  {
   "cell_type": "markdown",
   "metadata": {},
   "source": [
    "4번 답안"
   ]
  },
  {
   "cell_type": "code",
   "execution_count": null,
   "metadata": {},
   "outputs": [],
   "source": [
    "create or replace function lee(v_code agents.agent_code%type)\n",
    "return varchar2\n",
    "is\n",
    "    v_area agents.working_area%type;\n",
    "begin\n",
    "    select working_area\n",
    "        into v_area\n",
    "    from agents\n",
    "    where agent_code = v_code;\n",
    "    return v_area;\n",
    "end;\n",
    "/\n",
    "select lee('A011') from dual\n",
    "\n",
    "## 출력내용\n",
    "\n",
    "LEE('A011')\n",
    "------------\n",
    "Bangalore"
   ]
  },
  {
   "cell_type": "markdown",
   "metadata": {},
   "source": [
    "5번 답안"
   ]
  },
  {
   "cell_type": "code",
   "execution_count": null,
   "metadata": {},
   "outputs": [],
   "source": [
    "create or replace function cust_c(v_cust_code customer.cust_code%type)\n",
    "return customer.cust_city%type\n",
    "\n",
    "is\n",
    "\n",
    "\tv_cust_city customer.cust_city%type;\n",
    "begin\n",
    "\tselect cust_city \n",
    "\t\tinto v_cust_city\n",
    "\tfrom customer\n",
    "\twhere cust_code = v_cust_code;\n",
    "\t\n",
    "\treturn v_cust_city;\n",
    "end;\n",
    "/\n",
    "\n",
    "select cust_c('C00013') from dual;"
   ]
  },
  {
   "cell_type": "markdown",
   "metadata": {},
   "source": [
    "6번 답안"
   ]
  },
  {
   "cell_type": "code",
   "execution_count": null,
   "metadata": {},
   "outputs": [],
   "source": [
    "declare\n",
    "    ck_num ORDERS.ORD_NUM%type := &v;  \n",
    "    v_num ORDERS.ORD_NUM%type;\n",
    "    v_amo ORDERS.ORD_AMOUNT%type;\n",
    "    v_dat ORDERS.ORD_DATE%type;\n",
    "begin\n",
    "    select ORD_NUM, ORD_AMOUNT, ORD_DATE\n",
    "        into v_num, v_amo, v_dat\n",
    "    from orders\n",
    "    where ORD_NUM = ck_num;\n",
    "    dbms_output.put_line('주문번호 : ' || v_num);\n",
    "    dbms_output.put_line('주문일자 : ' || v_dat);\n",
    "    dbms_output.put_line('주문금액 : ' || v_amo);\n",
    "end;\n",
    "/"
   ]
  },
  {
   "cell_type": "code",
   "execution_count": null,
   "metadata": {},
   "outputs": [],
   "source": []
  }
 ],
 "metadata": {
  "kernelspec": {
   "display_name": "Python 3",
   "language": "python",
   "name": "python3"
  },
  "language_info": {
   "codemirror_mode": {
    "name": "ipython",
    "version": 3
   },
   "file_extension": ".py",
   "mimetype": "text/x-python",
   "name": "python",
   "nbconvert_exporter": "python",
   "pygments_lexer": "ipython3",
   "version": "3.8.5"
  }
 },
 "nbformat": 4,
 "nbformat_minor": 4
}
